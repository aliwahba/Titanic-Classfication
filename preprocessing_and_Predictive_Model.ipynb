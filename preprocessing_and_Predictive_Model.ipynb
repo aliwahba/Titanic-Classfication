{
  "nbformat": 4,
  "nbformat_minor": 0,
  "metadata": {
    "kernelspec": {
      "display_name": "Python 3",
      "language": "python",
      "name": "python3"
    },
    "language_info": {
      "codemirror_mode": {
        "name": "ipython",
        "version": 3
      },
      "file_extension": ".py",
      "mimetype": "text/x-python",
      "name": "python",
      "nbconvert_exporter": "python",
      "pygments_lexer": "ipython3",
      "version": "3.7.6"
    },
    "colab": {
      "name": "preprocessing and Predictive Model.ipynb",
      "provenance": []
    }
  },
  "cells": [
    {
      "cell_type": "markdown",
      "metadata": {
        "id": "c4XMdf4ReRdS",
        "colab_type": "text"
      },
      "source": [
        "Important Libraries"
      ]
    },
    {
      "cell_type": "code",
      "metadata": {
        "id": "rz8-13zMftbp",
        "colab_type": "code",
        "colab": {}
      },
      "source": [
        "import pandas as pd \n",
        "import numpy as np \n",
        "from sklearn.model_selection import train_test_split,GridSearchCV,cross_val_score\n",
        "from sklearn.linear_model import LogisticRegression\n",
        "from sklearn.tree import DecisionTreeClassifier\n",
        "from sklearn.ensemble import RandomForestClassifier\n",
        "from sklearn.neighbors import KNeighborsClassifier\n",
        "from sklearn.naive_bayes import BernoulliNB\n",
        "from sklearn.svm import SVC\n",
        "from sklearn.metrics import confusion_matrix,accuracy_score\n",
        "from sklearn.discriminant_analysis import LinearDiscriminantAnalysis\n",
        "import warnings\n",
        "warnings.filterwarnings(\"ignore\")\n",
        "%matplotlib inline"
      ],
      "execution_count": 1,
      "outputs": []
    },
    {
      "cell_type": "markdown",
      "metadata": {
        "id": "LCG10mP8ftb6",
        "colab_type": "text"
      },
      "source": [
        "### Read Data the file is Excel"
      ]
    },
    {
      "cell_type": "code",
      "metadata": {
        "id": "pxVy5s9Nftb7",
        "colab_type": "code",
        "colab": {
          "base_uri": "https://localhost:8080/",
          "height": 539
        },
        "outputId": "ba962b50-128f-4cc1-a129-ceb6e8e922c0"
      },
      "source": [
        "data= pd.read_excel(\"/content/titanic.xls\",encoding='utf-8')\n",
        "data.head()"
      ],
      "execution_count": 18,
      "outputs": [
        {
          "output_type": "execute_result",
          "data": {
            "text/html": [
              "<div>\n",
              "<style scoped>\n",
              "    .dataframe tbody tr th:only-of-type {\n",
              "        vertical-align: middle;\n",
              "    }\n",
              "\n",
              "    .dataframe tbody tr th {\n",
              "        vertical-align: top;\n",
              "    }\n",
              "\n",
              "    .dataframe thead th {\n",
              "        text-align: right;\n",
              "    }\n",
              "</style>\n",
              "<table border=\"1\" class=\"dataframe\">\n",
              "  <thead>\n",
              "    <tr style=\"text-align: right;\">\n",
              "      <th></th>\n",
              "      <th>pclass</th>\n",
              "      <th>survived</th>\n",
              "      <th>name</th>\n",
              "      <th>sex</th>\n",
              "      <th>age</th>\n",
              "      <th>sibsp</th>\n",
              "      <th>parch</th>\n",
              "      <th>ticket</th>\n",
              "      <th>fare</th>\n",
              "      <th>cabin</th>\n",
              "      <th>embarked</th>\n",
              "      <th>boat</th>\n",
              "      <th>body</th>\n",
              "      <th>home.dest</th>\n",
              "    </tr>\n",
              "  </thead>\n",
              "  <tbody>\n",
              "    <tr>\n",
              "      <th>0</th>\n",
              "      <td>1</td>\n",
              "      <td>1</td>\n",
              "      <td>Allen, Miss. Elisabeth Walton</td>\n",
              "      <td>female</td>\n",
              "      <td>29.0000</td>\n",
              "      <td>0</td>\n",
              "      <td>0</td>\n",
              "      <td>24160</td>\n",
              "      <td>211.3375</td>\n",
              "      <td>B5</td>\n",
              "      <td>S</td>\n",
              "      <td>2</td>\n",
              "      <td>NaN</td>\n",
              "      <td>St Louis, MO</td>\n",
              "    </tr>\n",
              "    <tr>\n",
              "      <th>1</th>\n",
              "      <td>1</td>\n",
              "      <td>1</td>\n",
              "      <td>Allison, Master. Hudson Trevor</td>\n",
              "      <td>male</td>\n",
              "      <td>0.9167</td>\n",
              "      <td>1</td>\n",
              "      <td>2</td>\n",
              "      <td>113781</td>\n",
              "      <td>151.5500</td>\n",
              "      <td>C22 C26</td>\n",
              "      <td>S</td>\n",
              "      <td>11</td>\n",
              "      <td>NaN</td>\n",
              "      <td>Montreal, PQ / Chesterville, ON</td>\n",
              "    </tr>\n",
              "    <tr>\n",
              "      <th>2</th>\n",
              "      <td>1</td>\n",
              "      <td>0</td>\n",
              "      <td>Allison, Miss. Helen Loraine</td>\n",
              "      <td>female</td>\n",
              "      <td>2.0000</td>\n",
              "      <td>1</td>\n",
              "      <td>2</td>\n",
              "      <td>113781</td>\n",
              "      <td>151.5500</td>\n",
              "      <td>C22 C26</td>\n",
              "      <td>S</td>\n",
              "      <td>NaN</td>\n",
              "      <td>NaN</td>\n",
              "      <td>Montreal, PQ / Chesterville, ON</td>\n",
              "    </tr>\n",
              "    <tr>\n",
              "      <th>3</th>\n",
              "      <td>1</td>\n",
              "      <td>0</td>\n",
              "      <td>Allison, Mr. Hudson Joshua Creighton</td>\n",
              "      <td>male</td>\n",
              "      <td>30.0000</td>\n",
              "      <td>1</td>\n",
              "      <td>2</td>\n",
              "      <td>113781</td>\n",
              "      <td>151.5500</td>\n",
              "      <td>C22 C26</td>\n",
              "      <td>S</td>\n",
              "      <td>NaN</td>\n",
              "      <td>135.0</td>\n",
              "      <td>Montreal, PQ / Chesterville, ON</td>\n",
              "    </tr>\n",
              "    <tr>\n",
              "      <th>4</th>\n",
              "      <td>1</td>\n",
              "      <td>0</td>\n",
              "      <td>Allison, Mrs. Hudson J C (Bessie Waldo Daniels)</td>\n",
              "      <td>female</td>\n",
              "      <td>25.0000</td>\n",
              "      <td>1</td>\n",
              "      <td>2</td>\n",
              "      <td>113781</td>\n",
              "      <td>151.5500</td>\n",
              "      <td>C22 C26</td>\n",
              "      <td>S</td>\n",
              "      <td>NaN</td>\n",
              "      <td>NaN</td>\n",
              "      <td>Montreal, PQ / Chesterville, ON</td>\n",
              "    </tr>\n",
              "  </tbody>\n",
              "</table>\n",
              "</div>"
            ],
            "text/plain": [
              "   pclass  survived  ...   body                        home.dest\n",
              "0       1         1  ...    NaN                     St Louis, MO\n",
              "1       1         1  ...    NaN  Montreal, PQ / Chesterville, ON\n",
              "2       1         0  ...    NaN  Montreal, PQ / Chesterville, ON\n",
              "3       1         0  ...  135.0  Montreal, PQ / Chesterville, ON\n",
              "4       1         0  ...    NaN  Montreal, PQ / Chesterville, ON\n",
              "\n",
              "[5 rows x 14 columns]"
            ]
          },
          "metadata": {
            "tags": []
          },
          "execution_count": 18
        }
      ]
    },
    {
      "cell_type": "markdown",
      "metadata": {
        "id": "rk5nwz_ofteL",
        "colab_type": "text"
      },
      "source": [
        "### Determining Missing Data and dealing With it"
      ]
    },
    {
      "cell_type": "code",
      "metadata": {
        "id": "wG33lIVXfteN",
        "colab_type": "code",
        "colab": {
          "base_uri": "https://localhost:8080/",
          "height": 224
        },
        "outputId": "b8ac9d47-e090-48e7-e770-56ea0408f0e8"
      },
      "source": [
        "def define_Missing():\n",
        "  print(\"The shape of Data before Deleting\",data.shape )\n",
        "  total= data.isnull().sum()\n",
        "  percent= ((total/len(data.index))*100).round(2)\n",
        "  data1= pd.concat([total,percent],axis=1,keys=['missing','%'])\n",
        "  return data1\n",
        "define_Missing().head()"
      ],
      "execution_count": 19,
      "outputs": [
        {
          "output_type": "stream",
          "text": [
            "The shape of Data before Deleting (1309, 14)\n"
          ],
          "name": "stdout"
        },
        {
          "output_type": "execute_result",
          "data": {
            "text/html": [
              "<div>\n",
              "<style scoped>\n",
              "    .dataframe tbody tr th:only-of-type {\n",
              "        vertical-align: middle;\n",
              "    }\n",
              "\n",
              "    .dataframe tbody tr th {\n",
              "        vertical-align: top;\n",
              "    }\n",
              "\n",
              "    .dataframe thead th {\n",
              "        text-align: right;\n",
              "    }\n",
              "</style>\n",
              "<table border=\"1\" class=\"dataframe\">\n",
              "  <thead>\n",
              "    <tr style=\"text-align: right;\">\n",
              "      <th></th>\n",
              "      <th>missing</th>\n",
              "      <th>%</th>\n",
              "    </tr>\n",
              "  </thead>\n",
              "  <tbody>\n",
              "    <tr>\n",
              "      <th>pclass</th>\n",
              "      <td>0</td>\n",
              "      <td>0.00</td>\n",
              "    </tr>\n",
              "    <tr>\n",
              "      <th>survived</th>\n",
              "      <td>0</td>\n",
              "      <td>0.00</td>\n",
              "    </tr>\n",
              "    <tr>\n",
              "      <th>name</th>\n",
              "      <td>0</td>\n",
              "      <td>0.00</td>\n",
              "    </tr>\n",
              "    <tr>\n",
              "      <th>sex</th>\n",
              "      <td>0</td>\n",
              "      <td>0.00</td>\n",
              "    </tr>\n",
              "    <tr>\n",
              "      <th>age</th>\n",
              "      <td>263</td>\n",
              "      <td>20.09</td>\n",
              "    </tr>\n",
              "  </tbody>\n",
              "</table>\n",
              "</div>"
            ],
            "text/plain": [
              "          missing      %\n",
              "pclass          0   0.00\n",
              "survived        0   0.00\n",
              "name            0   0.00\n",
              "sex             0   0.00\n",
              "age           263  20.09"
            ]
          },
          "metadata": {
            "tags": []
          },
          "execution_count": 19
        }
      ]
    },
    {
      "cell_type": "markdown",
      "metadata": {
        "id": "nxp8xLc0fteS",
        "colab_type": "text"
      },
      "source": [
        "#### from the result above the are filled Nan Values more than 50% it must delete these coulmns boat,body  "
      ]
    },
    {
      "cell_type": "code",
      "metadata": {
        "id": "XCd2tWH3fteU",
        "colab_type": "code",
        "colab": {}
      },
      "source": [
        "data.drop(['body','boat','home.dest','cabin','ticket'],axis=1,inplace=True)"
      ],
      "execution_count": 20,
      "outputs": []
    },
    {
      "cell_type": "markdown",
      "metadata": {
        "id": "6uHGXYUsfteZ",
        "colab_type": "text"
      },
      "source": [
        "#### embarked  has two Nan values and we want to fill itwe want to know which value most freqrncy"
      ]
    },
    {
      "cell_type": "code",
      "metadata": {
        "id": "P7Qbe93-fteZ",
        "colab_type": "code",
        "colab": {}
      },
      "source": [
        "data['embarked'].value_counts()\n",
        "data['embarked'].replace(np.nan,'S',inplace=True)\n",
        "data['embarked']= data['embarked'].replace({'S':0,'C':1,'Q':2})                   \n",
        "data['sex']= data['sex'].replace({'female':1,'male':0})                   "
      ],
      "execution_count": 21,
      "outputs": []
    },
    {
      "cell_type": "code",
      "metadata": {
        "id": "XzQQpgYvfteh",
        "colab_type": "code",
        "colab": {
          "base_uri": "https://localhost:8080/",
          "height": 293
        },
        "outputId": "c165b9e4-3424-4e9b-a12e-a4485d413b89"
      },
      "source": [
        "data.head()"
      ],
      "execution_count": 22,
      "outputs": [
        {
          "output_type": "execute_result",
          "data": {
            "text/html": [
              "<div>\n",
              "<style scoped>\n",
              "    .dataframe tbody tr th:only-of-type {\n",
              "        vertical-align: middle;\n",
              "    }\n",
              "\n",
              "    .dataframe tbody tr th {\n",
              "        vertical-align: top;\n",
              "    }\n",
              "\n",
              "    .dataframe thead th {\n",
              "        text-align: right;\n",
              "    }\n",
              "</style>\n",
              "<table border=\"1\" class=\"dataframe\">\n",
              "  <thead>\n",
              "    <tr style=\"text-align: right;\">\n",
              "      <th></th>\n",
              "      <th>pclass</th>\n",
              "      <th>survived</th>\n",
              "      <th>name</th>\n",
              "      <th>sex</th>\n",
              "      <th>age</th>\n",
              "      <th>sibsp</th>\n",
              "      <th>parch</th>\n",
              "      <th>fare</th>\n",
              "      <th>embarked</th>\n",
              "    </tr>\n",
              "  </thead>\n",
              "  <tbody>\n",
              "    <tr>\n",
              "      <th>0</th>\n",
              "      <td>1</td>\n",
              "      <td>1</td>\n",
              "      <td>Allen, Miss. Elisabeth Walton</td>\n",
              "      <td>1</td>\n",
              "      <td>29.0000</td>\n",
              "      <td>0</td>\n",
              "      <td>0</td>\n",
              "      <td>211.3375</td>\n",
              "      <td>0</td>\n",
              "    </tr>\n",
              "    <tr>\n",
              "      <th>1</th>\n",
              "      <td>1</td>\n",
              "      <td>1</td>\n",
              "      <td>Allison, Master. Hudson Trevor</td>\n",
              "      <td>0</td>\n",
              "      <td>0.9167</td>\n",
              "      <td>1</td>\n",
              "      <td>2</td>\n",
              "      <td>151.5500</td>\n",
              "      <td>0</td>\n",
              "    </tr>\n",
              "    <tr>\n",
              "      <th>2</th>\n",
              "      <td>1</td>\n",
              "      <td>0</td>\n",
              "      <td>Allison, Miss. Helen Loraine</td>\n",
              "      <td>1</td>\n",
              "      <td>2.0000</td>\n",
              "      <td>1</td>\n",
              "      <td>2</td>\n",
              "      <td>151.5500</td>\n",
              "      <td>0</td>\n",
              "    </tr>\n",
              "    <tr>\n",
              "      <th>3</th>\n",
              "      <td>1</td>\n",
              "      <td>0</td>\n",
              "      <td>Allison, Mr. Hudson Joshua Creighton</td>\n",
              "      <td>0</td>\n",
              "      <td>30.0000</td>\n",
              "      <td>1</td>\n",
              "      <td>2</td>\n",
              "      <td>151.5500</td>\n",
              "      <td>0</td>\n",
              "    </tr>\n",
              "    <tr>\n",
              "      <th>4</th>\n",
              "      <td>1</td>\n",
              "      <td>0</td>\n",
              "      <td>Allison, Mrs. Hudson J C (Bessie Waldo Daniels)</td>\n",
              "      <td>1</td>\n",
              "      <td>25.0000</td>\n",
              "      <td>1</td>\n",
              "      <td>2</td>\n",
              "      <td>151.5500</td>\n",
              "      <td>0</td>\n",
              "    </tr>\n",
              "  </tbody>\n",
              "</table>\n",
              "</div>"
            ],
            "text/plain": [
              "   pclass  survived  ...      fare  embarked\n",
              "0       1         1  ...  211.3375         0\n",
              "1       1         1  ...  151.5500         0\n",
              "2       1         0  ...  151.5500         0\n",
              "3       1         0  ...  151.5500         0\n",
              "4       1         0  ...  151.5500         0\n",
              "\n",
              "[5 rows x 9 columns]"
            ]
          },
          "metadata": {
            "tags": []
          },
          "execution_count": 22
        }
      ]
    },
    {
      "cell_type": "markdown",
      "metadata": {
        "id": "9rUyt7VPften",
        "colab_type": "text"
      },
      "source": [
        "#### Deal with missing Values in the age Column"
      ]
    },
    {
      "cell_type": "code",
      "metadata": {
        "id": "vdir1LyMftep",
        "colab_type": "code",
        "colab": {}
      },
      "source": [
        "age_avg= data['age'].mean()\n",
        "age_std= data['age'].std()\n",
        "age_null_count = data['age'].isnull().sum()\n",
        "age_null_random_list = np.random.randint(age_avg - age_std, age_avg + age_std, size=age_null_count)\n",
        "data['age'][np.isnan(data['age'])] = age_null_random_list\n",
        "data['age'] = data['age'].astype(int)"
      ],
      "execution_count": 24,
      "outputs": []
    },
    {
      "cell_type": "code",
      "metadata": {
        "id": "zKU_N84_ftev",
        "colab_type": "code",
        "colab": {
          "base_uri": "https://localhost:8080/",
          "height": 237
        },
        "outputId": "032926e8-a96c-464d-cfb4-09b8f618c90e"
      },
      "source": [
        "data['bins_age'] = pd.cut(data['age'], 5)\n",
        "data[['bins_age', 'survived']].groupby('bins_age').mean()"
      ],
      "execution_count": 25,
      "outputs": [
        {
          "output_type": "execute_result",
          "data": {
            "text/html": [
              "<div>\n",
              "<style scoped>\n",
              "    .dataframe tbody tr th:only-of-type {\n",
              "        vertical-align: middle;\n",
              "    }\n",
              "\n",
              "    .dataframe tbody tr th {\n",
              "        vertical-align: top;\n",
              "    }\n",
              "\n",
              "    .dataframe thead th {\n",
              "        text-align: right;\n",
              "    }\n",
              "</style>\n",
              "<table border=\"1\" class=\"dataframe\">\n",
              "  <thead>\n",
              "    <tr style=\"text-align: right;\">\n",
              "      <th></th>\n",
              "      <th>survived</th>\n",
              "    </tr>\n",
              "    <tr>\n",
              "      <th>bins_age</th>\n",
              "      <th></th>\n",
              "    </tr>\n",
              "  </thead>\n",
              "  <tbody>\n",
              "    <tr>\n",
              "      <th>(-0.08, 16.0]</th>\n",
              "      <td>0.533333</td>\n",
              "    </tr>\n",
              "    <tr>\n",
              "      <th>(16.0, 32.0]</th>\n",
              "      <td>0.344928</td>\n",
              "    </tr>\n",
              "    <tr>\n",
              "      <th>(32.0, 48.0]</th>\n",
              "      <td>0.380000</td>\n",
              "    </tr>\n",
              "    <tr>\n",
              "      <th>(48.0, 64.0]</th>\n",
              "      <td>0.443396</td>\n",
              "    </tr>\n",
              "    <tr>\n",
              "      <th>(64.0, 80.0]</th>\n",
              "      <td>0.153846</td>\n",
              "    </tr>\n",
              "  </tbody>\n",
              "</table>\n",
              "</div>"
            ],
            "text/plain": [
              "               survived\n",
              "bins_age               \n",
              "(-0.08, 16.0]  0.533333\n",
              "(16.0, 32.0]   0.344928\n",
              "(32.0, 48.0]   0.380000\n",
              "(48.0, 64.0]   0.443396\n",
              "(64.0, 80.0]   0.153846"
            ]
          },
          "metadata": {
            "tags": []
          },
          "execution_count": 25
        }
      ]
    },
    {
      "cell_type": "code",
      "metadata": {
        "id": "G8tQ3BAZfte2",
        "colab_type": "code",
        "colab": {}
      },
      "source": [
        "data['fare']=data['fare'].replace(np.nan,data['fare'].median())"
      ],
      "execution_count": 26,
      "outputs": []
    },
    {
      "cell_type": "markdown",
      "metadata": {
        "id": "2NQGEOl_fte8",
        "colab_type": "text"
      },
      "source": [
        "### we will split Fare to four bins by using cut(Numrical to catogrical)"
      ]
    },
    {
      "cell_type": "code",
      "metadata": {
        "id": "8Y72Cfalfte8",
        "colab_type": "code",
        "colab": {}
      },
      "source": [
        "data['fare'] = pd.cut(data['fare'],4)\n",
        "data.drop('name',inplace=True,axis=1)"
      ],
      "execution_count": 27,
      "outputs": []
    },
    {
      "cell_type": "code",
      "metadata": {
        "id": "3iFxm-MGftfC",
        "colab_type": "code",
        "colab": {}
      },
      "source": [
        "from sklearn.preprocessing import LabelEncoder\n",
        "model=LabelEncoder()\n",
        "data['age']=model.fit_transform(data['bins_age'])\n",
        "data['fare']=model.fit_transform(data['fare'])\n",
        "data.drop('bins_age',inplace=True,axis=1)"
      ],
      "execution_count": 28,
      "outputs": []
    },
    {
      "cell_type": "markdown",
      "metadata": {
        "id": "zUva3ApXftfG",
        "colab_type": "text"
      },
      "source": [
        "##  fit the Model and Test The Accurecy"
      ]
    },
    {
      "cell_type": "code",
      "metadata": {
        "id": "BkLU1ReiftfH",
        "colab_type": "code",
        "colab": {}
      },
      "source": [
        "X=data.drop(['survived'],axis=1)\n",
        "y=data['survived']"
      ],
      "execution_count": 29,
      "outputs": []
    },
    {
      "cell_type": "code",
      "metadata": {
        "id": "K62-bCltftfM",
        "colab_type": "code",
        "colab": {}
      },
      "source": [
        "\n",
        "X_train,X_test,y_train,y_test= train_test_split(X,y,test_size=.2,random_state=33)"
      ],
      "execution_count": 30,
      "outputs": []
    },
    {
      "cell_type": "markdown",
      "metadata": {
        "id": "u9FMcVRSftfQ",
        "colab_type": "text"
      },
      "source": [
        "### Compear Between the Diferent Model "
      ]
    },
    {
      "cell_type": "code",
      "metadata": {
        "id": "F_nS65AbftfS",
        "colab_type": "code",
        "colab": {
          "base_uri": "https://localhost:8080/",
          "height": 654
        },
        "outputId": "5ff2d790-8d48-482c-b6cc-683c8eb5b2f6"
      },
      "source": [
        "#Random forest\n",
        "RFmodel= RandomForestClassifier(n_estimators=100,max_depth=3,random_state=33)\n",
        "RFmodel.fit(X_train,y_train)\n",
        "y_pred= RFmodel.predict(X_test)\n",
        "print(\"confusion matrix:\\n\",confusion_matrix(y_test,y_pred))\n",
        "print(\"Accurecy Score for Random Forest:%f\"%accuracy_score(y_pred,y_test))\n",
        "print('*'*50)\n",
        "###DecisionTree\n",
        "DTmodel= DecisionTreeClassifier(max_depth=5,random_state=33)\n",
        "DTmodel.fit(X_train,y_train)\n",
        "y_pred= DTmodel.predict(X_test)\n",
        "print(\"confusion matrix:\\n\",confusion_matrix(y_test,y_pred))\n",
        "print(\"Accurecy Score for Decision Tree:%f\"%accuracy_score(y_pred,y_test))\n",
        "print('*'*50)\n",
        "####SVC\n",
        "SVCmodel= SVC(kernel= 'rbf')\n",
        "SVCmodel.fit(X_train,y_train)\n",
        "y_pred= SVCmodel.predict(X_test)\n",
        "print(\"confusion matrix:\\n\",confusion_matrix(y_test,y_pred))\n",
        "print(\"Accurecy Score for SVC:%f\"%accuracy_score(y_pred,y_test))\n",
        "print('*'*50)\n",
        "####Logistic Regression\n",
        "LRmodel= LogisticRegression(fit_intercept=True)\n",
        "LRmodel.fit(X_train,y_train)\n",
        "y_pred= LRmodel.predict(X_test)\n",
        "print(\"confusion matrix:\\n\",confusion_matrix(y_test,y_pred))\n",
        "print(\"Accurecy Score for Logestic Regretion:%f\"%accuracy_score(y_pred,y_test))\n",
        "print('*'*50)\n",
        "###bernoli NB\n",
        "BNmodel= BernoulliNB(alpha=.01)\n",
        "BNmodel.fit(X_train,y_train)\n",
        "y_pred= BNmodel.predict(X_test)\n",
        "print(\"confusion matrix:\\n\",confusion_matrix(y_test,y_pred))\n",
        "print(\"Accurecy Score for Bernoulli:%f\"%accuracy_score(y_pred,y_test))\n",
        "print('*'*50)\n",
        "####KNeighbors\n",
        "NeighborsClassmodel= KNeighborsClassifier(n_neighbors=4)\n",
        "NeighborsClassmodel.fit(X_train,y_train)\n",
        "y_pred= NeighborsClassmodel.predict(X_test)\n",
        "print(\"confusion matrix:\\n\",confusion_matrix(y_test,y_pred))\n",
        "print(\"Accurecy Score for KNeighbors:%f\"%accuracy_score(y_pred,y_test))\n",
        "print('*'*50)\n",
        "####LinearDiscriminant\n",
        "LinearDiscriminantmodel= LinearDiscriminantAnalysis(n_components=10)\n",
        "LinearDiscriminantmodel.fit(X_train,y_train)\n",
        "y_pred= LinearDiscriminantmodel.predict(X_test)\n",
        "print(\"confusion matrix:\\n\",confusion_matrix(y_test,y_pred))\n",
        "print(\"Accurecy Score for LinearDiscriminant:%f\"%accuracy_score(y_pred,y_test))\n",
        "print('*'*50)"
      ],
      "execution_count": 31,
      "outputs": [
        {
          "output_type": "stream",
          "text": [
            "confusion matrix:\n",
            " [[150  18]\n",
            " [ 24  70]]\n",
            "Accurecy Score for Random Forest:0.839695\n",
            "**************************************************\n",
            "confusion matrix:\n",
            " [[144  24]\n",
            " [ 25  69]]\n",
            "Accurecy Score for Decision Tree:0.812977\n",
            "**************************************************\n",
            "confusion matrix:\n",
            " [[143  25]\n",
            " [ 24  70]]\n",
            "Accurecy Score for SVC:0.812977\n",
            "**************************************************\n",
            "confusion matrix:\n",
            " [[139  29]\n",
            " [ 25  69]]\n",
            "Accurecy Score for Logestic Regretion:0.793893\n",
            "**************************************************\n",
            "confusion matrix:\n",
            " [[129  39]\n",
            " [ 22  72]]\n",
            "Accurecy Score for Bernoulli:0.767176\n",
            "**************************************************\n",
            "confusion matrix:\n",
            " [[147  21]\n",
            " [ 29  65]]\n",
            "Accurecy Score for KNeighbors:0.809160\n",
            "**************************************************\n",
            "confusion matrix:\n",
            " [[139  29]\n",
            " [ 25  69]]\n",
            "Accurecy Score for LinearDiscriminant:0.793893\n",
            "**************************************************\n"
          ],
          "name": "stdout"
        }
      ]
    },
    {
      "cell_type": "markdown",
      "metadata": {
        "id": "C7wYzq_7ftfb",
        "colab_type": "text"
      },
      "source": [
        "## Select the Best estimator in Randomforest "
      ]
    },
    {
      "cell_type": "code",
      "metadata": {
        "id": "k0U85aLCftfd",
        "colab_type": "code",
        "colab": {
          "base_uri": "https://localhost:8080/",
          "height": 1000
        },
        "outputId": "a7de9736-e41a-45a1-86b7-13ab7d4b6ef8"
      },
      "source": [
        "for i in range(2,200,5):\n",
        "    print(\"n:\",i)\n",
        "    RFmodel= RandomForestClassifier(n_estimators=i,max_depth=5,random_state=33)\n",
        "    RFmodel.fit(X_train,y_train)\n",
        "    y_pred= RFmodel.predict(X_test)\n",
        "    print(\"confusion matrix:\\n\",confusion_matrix(y_test,y_pred))\n",
        "    print(\"Accurecy Score for Random Forest:%f\"%accuracy_score(y_pred,y_test))\n",
        "    print('*'*50)\n",
        "#####the best estimator n =2 the Accuecy is 0.835878    "
      ],
      "execution_count": 32,
      "outputs": [
        {
          "output_type": "stream",
          "text": [
            "n: 2\n",
            "confusion matrix:\n",
            " [[151  17]\n",
            " [ 33  61]]\n",
            "Accurecy Score for Random Forest:0.809160\n",
            "**************************************************\n",
            "n: 7\n",
            "confusion matrix:\n",
            " [[146  22]\n",
            " [ 25  69]]\n",
            "Accurecy Score for Random Forest:0.820611\n",
            "**************************************************\n",
            "n: 12\n",
            "confusion matrix:\n",
            " [[153  15]\n",
            " [ 34  60]]\n",
            "Accurecy Score for Random Forest:0.812977\n",
            "**************************************************\n",
            "n: 17\n",
            "confusion matrix:\n",
            " [[150  18]\n",
            " [ 24  70]]\n",
            "Accurecy Score for Random Forest:0.839695\n",
            "**************************************************\n",
            "n: 22\n",
            "confusion matrix:\n",
            " [[146  22]\n",
            " [ 23  71]]\n",
            "Accurecy Score for Random Forest:0.828244\n",
            "**************************************************\n",
            "n: 27\n",
            "confusion matrix:\n",
            " [[144  24]\n",
            " [ 23  71]]\n",
            "Accurecy Score for Random Forest:0.820611\n",
            "**************************************************\n",
            "n: 32\n",
            "confusion matrix:\n",
            " [[144  24]\n",
            " [ 23  71]]\n",
            "Accurecy Score for Random Forest:0.820611\n",
            "**************************************************\n",
            "n: 37\n",
            "confusion matrix:\n",
            " [[144  24]\n",
            " [ 23  71]]\n",
            "Accurecy Score for Random Forest:0.820611\n",
            "**************************************************\n",
            "n: 42\n",
            "confusion matrix:\n",
            " [[144  24]\n",
            " [ 23  71]]\n",
            "Accurecy Score for Random Forest:0.820611\n",
            "**************************************************\n",
            "n: 47\n",
            "confusion matrix:\n",
            " [[144  24]\n",
            " [ 23  71]]\n",
            "Accurecy Score for Random Forest:0.820611\n",
            "**************************************************\n",
            "n: 52\n",
            "confusion matrix:\n",
            " [[144  24]\n",
            " [ 23  71]]\n",
            "Accurecy Score for Random Forest:0.820611\n",
            "**************************************************\n",
            "n: 57\n",
            "confusion matrix:\n",
            " [[144  24]\n",
            " [ 23  71]]\n",
            "Accurecy Score for Random Forest:0.820611\n",
            "**************************************************\n",
            "n: 62\n",
            "confusion matrix:\n",
            " [[144  24]\n",
            " [ 23  71]]\n",
            "Accurecy Score for Random Forest:0.820611\n",
            "**************************************************\n",
            "n: 67\n",
            "confusion matrix:\n",
            " [[144  24]\n",
            " [ 23  71]]\n",
            "Accurecy Score for Random Forest:0.820611\n",
            "**************************************************\n",
            "n: 72\n",
            "confusion matrix:\n",
            " [[144  24]\n",
            " [ 23  71]]\n",
            "Accurecy Score for Random Forest:0.820611\n",
            "**************************************************\n",
            "n: 77\n",
            "confusion matrix:\n",
            " [[144  24]\n",
            " [ 23  71]]\n",
            "Accurecy Score for Random Forest:0.820611\n",
            "**************************************************\n",
            "n: 82\n",
            "confusion matrix:\n",
            " [[144  24]\n",
            " [ 23  71]]\n",
            "Accurecy Score for Random Forest:0.820611\n",
            "**************************************************\n",
            "n: 87\n",
            "confusion matrix:\n",
            " [[144  24]\n",
            " [ 23  71]]\n",
            "Accurecy Score for Random Forest:0.820611\n",
            "**************************************************\n",
            "n: 92\n",
            "confusion matrix:\n",
            " [[144  24]\n",
            " [ 22  72]]\n",
            "Accurecy Score for Random Forest:0.824427\n",
            "**************************************************\n",
            "n: 97\n",
            "confusion matrix:\n",
            " [[144  24]\n",
            " [ 23  71]]\n",
            "Accurecy Score for Random Forest:0.820611\n",
            "**************************************************\n",
            "n: 102\n",
            "confusion matrix:\n",
            " [[144  24]\n",
            " [ 23  71]]\n",
            "Accurecy Score for Random Forest:0.820611\n",
            "**************************************************\n",
            "n: 107\n",
            "confusion matrix:\n",
            " [[144  24]\n",
            " [ 23  71]]\n",
            "Accurecy Score for Random Forest:0.820611\n",
            "**************************************************\n",
            "n: 112\n",
            "confusion matrix:\n",
            " [[144  24]\n",
            " [ 23  71]]\n",
            "Accurecy Score for Random Forest:0.820611\n",
            "**************************************************\n",
            "n: 117\n",
            "confusion matrix:\n",
            " [[144  24]\n",
            " [ 23  71]]\n",
            "Accurecy Score for Random Forest:0.820611\n",
            "**************************************************\n",
            "n: 122\n",
            "confusion matrix:\n",
            " [[144  24]\n",
            " [ 23  71]]\n",
            "Accurecy Score for Random Forest:0.820611\n",
            "**************************************************\n",
            "n: 127\n",
            "confusion matrix:\n",
            " [[144  24]\n",
            " [ 23  71]]\n",
            "Accurecy Score for Random Forest:0.820611\n",
            "**************************************************\n",
            "n: 132\n",
            "confusion matrix:\n",
            " [[144  24]\n",
            " [ 23  71]]\n",
            "Accurecy Score for Random Forest:0.820611\n",
            "**************************************************\n",
            "n: 137\n",
            "confusion matrix:\n",
            " [[144  24]\n",
            " [ 23  71]]\n",
            "Accurecy Score for Random Forest:0.820611\n",
            "**************************************************\n",
            "n: 142\n",
            "confusion matrix:\n",
            " [[144  24]\n",
            " [ 23  71]]\n",
            "Accurecy Score for Random Forest:0.820611\n",
            "**************************************************\n",
            "n: 147\n",
            "confusion matrix:\n",
            " [[144  24]\n",
            " [ 23  71]]\n",
            "Accurecy Score for Random Forest:0.820611\n",
            "**************************************************\n",
            "n: 152\n",
            "confusion matrix:\n",
            " [[144  24]\n",
            " [ 23  71]]\n",
            "Accurecy Score for Random Forest:0.820611\n",
            "**************************************************\n",
            "n: 157\n",
            "confusion matrix:\n",
            " [[144  24]\n",
            " [ 23  71]]\n",
            "Accurecy Score for Random Forest:0.820611\n",
            "**************************************************\n",
            "n: 162\n",
            "confusion matrix:\n",
            " [[144  24]\n",
            " [ 23  71]]\n",
            "Accurecy Score for Random Forest:0.820611\n",
            "**************************************************\n",
            "n: 167\n",
            "confusion matrix:\n",
            " [[144  24]\n",
            " [ 23  71]]\n",
            "Accurecy Score for Random Forest:0.820611\n",
            "**************************************************\n",
            "n: 172\n",
            "confusion matrix:\n",
            " [[144  24]\n",
            " [ 23  71]]\n",
            "Accurecy Score for Random Forest:0.820611\n",
            "**************************************************\n",
            "n: 177\n",
            "confusion matrix:\n",
            " [[144  24]\n",
            " [ 23  71]]\n",
            "Accurecy Score for Random Forest:0.820611\n",
            "**************************************************\n",
            "n: 182\n",
            "confusion matrix:\n",
            " [[144  24]\n",
            " [ 23  71]]\n",
            "Accurecy Score for Random Forest:0.820611\n",
            "**************************************************\n",
            "n: 187\n",
            "confusion matrix:\n",
            " [[144  24]\n",
            " [ 23  71]]\n",
            "Accurecy Score for Random Forest:0.820611\n",
            "**************************************************\n",
            "n: 192\n",
            "confusion matrix:\n",
            " [[144  24]\n",
            " [ 23  71]]\n",
            "Accurecy Score for Random Forest:0.820611\n",
            "**************************************************\n",
            "n: 197\n",
            "confusion matrix:\n",
            " [[144  24]\n",
            " [ 23  71]]\n",
            "Accurecy Score for Random Forest:0.820611\n",
            "**************************************************\n"
          ],
          "name": "stdout"
        }
      ]
    },
    {
      "cell_type": "code",
      "metadata": {
        "id": "Rwub_Z8dftfi",
        "colab_type": "code",
        "colab": {
          "base_uri": "https://localhost:8080/",
          "height": 891
        },
        "outputId": "48d78f38-2923-4d9d-a3ad-9a4a9c5e0b3f"
      },
      "source": [
        " ####KNeighbors\n",
        "for i in range(2,10,1):\n",
        "    print(\"Neighbors:\",i)\n",
        "    NeighborsClassmodel= KNeighborsClassifier(n_neighbors=i,algorithm='kd_tree',\n",
        "                                              weights ='distance')\n",
        "    NeighborsClassmodel.fit(X_train,y_train)\n",
        "    y_pred= NeighborsClassmodel.predict(X_test)\n",
        "    print(\"confusion matrix:\\n\",confusion_matrix(y_test,y_pred))\n",
        "    print(\"Accurecy Score for KNeighbors:%f\"%accuracy_score(y_pred,y_test))\n",
        "    print('*'*50)\n",
        "\n",
        "#### the best paramters (n=4,algorithm='kd_tree',weights ='distance')     \n",
        "    "
      ],
      "execution_count": 33,
      "outputs": [
        {
          "output_type": "stream",
          "text": [
            "Neighbors: 2\n",
            "confusion matrix:\n",
            " [[155  13]\n",
            " [ 32  62]]\n",
            "Accurecy Score for KNeighbors:0.828244\n",
            "**************************************************\n",
            "Neighbors: 3\n",
            "confusion matrix:\n",
            " [[137  31]\n",
            " [ 21  73]]\n",
            "Accurecy Score for KNeighbors:0.801527\n",
            "**************************************************\n",
            "Neighbors: 4\n",
            "confusion matrix:\n",
            " [[147  21]\n",
            " [ 26  68]]\n",
            "Accurecy Score for KNeighbors:0.820611\n",
            "**************************************************\n",
            "Neighbors: 5\n",
            "confusion matrix:\n",
            " [[143  25]\n",
            " [ 24  70]]\n",
            "Accurecy Score for KNeighbors:0.812977\n",
            "**************************************************\n",
            "Neighbors: 6\n",
            "confusion matrix:\n",
            " [[149  19]\n",
            " [ 25  69]]\n",
            "Accurecy Score for KNeighbors:0.832061\n",
            "**************************************************\n",
            "Neighbors: 7\n",
            "confusion matrix:\n",
            " [[147  21]\n",
            " [ 25  69]]\n",
            "Accurecy Score for KNeighbors:0.824427\n",
            "**************************************************\n",
            "Neighbors: 8\n",
            "confusion matrix:\n",
            " [[148  20]\n",
            " [ 25  69]]\n",
            "Accurecy Score for KNeighbors:0.828244\n",
            "**************************************************\n",
            "Neighbors: 9\n",
            "confusion matrix:\n",
            " [[148  20]\n",
            " [ 25  69]]\n",
            "Accurecy Score for KNeighbors:0.828244\n",
            "**************************************************\n"
          ],
          "name": "stdout"
        }
      ]
    },
    {
      "cell_type": "code",
      "metadata": {
        "id": "NldAvb1eftfr",
        "colab_type": "code",
        "colab": {}
      },
      "source": [
        ""
      ],
      "execution_count": null,
      "outputs": []
    }
  ]
}